{
 "cells": [
  {
   "cell_type": "code",
   "execution_count": 17,
   "metadata": {},
   "outputs": [
    {
     "name": "stdout",
     "output_type": "stream",
     "text": [
      "[16, 1]\n"
     ]
    },
    {
     "data": {
      "text/plain": [
       "True"
      ]
     },
     "execution_count": 17,
     "metadata": {},
     "output_type": "execute_result"
    }
   ],
   "source": [
    "def close_far(a, b, c):\n",
    "  dist = [abs(a-x) for x in [b,c]]\n",
    "  print(dist)\n",
    "  return (dist[0] <= 1 and dist[1] >= 2) or (dist[1] <= 1 and dist[0] >= 2)\n",
    "\n",
    "close_far(8,-8,9)"
   ]
  },
  {
   "cell_type": "code",
   "execution_count": 18,
   "metadata": {},
   "outputs": [
    {
     "data": {
      "text/plain": [
       "['2021-01-23', '14:05:12', '21', 'ok']"
      ]
     },
     "execution_count": 18,
     "metadata": {},
     "output_type": "execute_result"
    }
   ],
   "source": [
    "\"2021-01-23, 14:05:12, 21, ok\".split(\", \")"
   ]
  },
  {
   "cell_type": "code",
   "execution_count": 26,
   "metadata": {},
   "outputs": [
    {
     "data": {
      "text/plain": [
       "((23, 29), (1021, 1031), (1129, 1151), (9551, 9587), None)"
      ]
     },
     "execution_count": 26,
     "metadata": {},
     "output_type": "execute_result"
    }
   ],
   "source": [
    "def is_prime(n):\n",
    "    for i in range(2, n):\n",
    "        if n % i == 0:\n",
    "            return False\n",
    "        \n",
    "    return True\n",
    "\n",
    "def next_prime(n):\n",
    "    i = n + 1\n",
    "    while True:\n",
    "        if is_prime(i):\n",
    "            return i\n",
    "        \n",
    "        i += 1\n",
    "\n",
    "def prime_dist(start, dist):\n",
    "    if not is_prime(start):\n",
    "        p1 = next_prime(start)\n",
    "    else:\n",
    "        p1 = start\n",
    "\n",
    "    p2 = next_prime(p1)\n",
    "\n",
    "    while p2 < start * 10:\n",
    "        if p2 - p1 >= dist:\n",
    "            return (p1, p2)\n",
    "        \n",
    "        p1 = p2\n",
    "        p2 = next_prime(p1)\n",
    "\n",
    "    return None\n",
    "\n",
    "prime_dist(3,6), prime_dist(1000,10), prime_dist(1000,20), prime_dist(1000,35), prime_dist(1000,37)"
   ]
  },
  {
   "cell_type": "code",
   "execution_count": 32,
   "metadata": {},
   "outputs": [
    {
     "ename": "IndexError",
     "evalue": "list index out of range",
     "output_type": "error",
     "traceback": [
      "\u001b[0;31m---------------------------------------------------------------------------\u001b[0m",
      "\u001b[0;31mIndexError\u001b[0m                                Traceback (most recent call last)",
      "Cell \u001b[0;32mIn[32], line 19\u001b[0m\n\u001b[1;32m     15\u001b[0m             m1[i][j] \u001b[39m*\u001b[39m\u001b[39m=\u001b[39m m2[j][i]\n\u001b[1;32m     17\u001b[0m     \u001b[39mreturn\u001b[39;00m m1\n\u001b[0;32m---> 19\u001b[0m mat_mul(m1, m2)\n",
      "Cell \u001b[0;32mIn[32], line 15\u001b[0m, in \u001b[0;36mmat_mul\u001b[0;34m(m1, m2)\u001b[0m\n\u001b[1;32m     13\u001b[0m \u001b[39mfor\u001b[39;00m i \u001b[39min\u001b[39;00m \u001b[39mrange\u001b[39m(\u001b[39mlen\u001b[39m(m1)):\n\u001b[1;32m     14\u001b[0m     \u001b[39mfor\u001b[39;00m j \u001b[39min\u001b[39;00m \u001b[39mrange\u001b[39m(\u001b[39mlen\u001b[39m(m1[i])):\n\u001b[0;32m---> 15\u001b[0m         m1[i][j] \u001b[39m*\u001b[39m\u001b[39m=\u001b[39m m2[j][i]\n\u001b[1;32m     17\u001b[0m \u001b[39mreturn\u001b[39;00m m1\n",
      "\u001b[0;31mIndexError\u001b[0m: list index out of range"
     ]
    }
   ],
   "source": [
    "m1 = [[1, 0, 3], [0, 2, 4]]\n",
    "m2 = [[1, 0, 3], [0, 2, 4]]\n",
    "\n",
    "\n",
    "def mat_add(m1, m2):\n",
    "    for i in range(len(m1)):\n",
    "        for j in range(len(m1[i])):\n",
    "            m1[i][j] += m2[i][j]\n",
    "\n",
    "    return m1\n",
    "\n",
    "def mat_mul(m1, m2):\n",
    "    for i in range(len(m1)):\n",
    "        for j in range(len(m1[i])):\n",
    "            m1[i][j] *= m2[j][i]\n",
    "\n",
    "    return m1\n",
    "\n",
    "mat_mul(m1, m2)"
   ]
  },
  {
   "cell_type": "code",
   "execution_count": null,
   "metadata": {},
   "outputs": [],
   "source": []
  }
 ],
 "metadata": {
  "kernelspec": {
   "display_name": "venv",
   "language": "python",
   "name": "python3"
  },
  "language_info": {
   "codemirror_mode": {
    "name": "ipython",
    "version": 3
   },
   "file_extension": ".py",
   "mimetype": "text/x-python",
   "name": "python",
   "nbconvert_exporter": "python",
   "pygments_lexer": "ipython3",
   "version": "3.10.7 (v3.10.7:6cc6b13308, Sep  5 2022, 14:02:52) [Clang 13.0.0 (clang-1300.0.29.30)]"
  },
  "vscode": {
   "interpreter": {
    "hash": "4af285b22039cedd920e00cf4b3f729052bd672e5850420e4460fb2505faee4c"
   }
  }
 },
 "nbformat": 4,
 "nbformat_minor": 0
}
